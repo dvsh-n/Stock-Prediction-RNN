{
 "cells": [
  {
   "cell_type": "code",
   "execution_count": 4,
   "metadata": {},
   "outputs": [
    {
     "name": "stdout",
     "output_type": "stream",
     "text": [
      "[*********************100%%**********************]  1 of 1 completed\n"
     ]
    }
   ],
   "source": [
    "import yfinance as yf\n",
    "import pandas as pd\n",
    "\n",
    "stock_symbol = 'AAPL'\n",
    "start_date = '2021-01-01'\n",
    "end_date = '2023-01-01'\n",
    "\n",
    "AAPL = yf.download(stock_symbol, start=start_date, end=end_date)"
   ]
  },
  {
   "cell_type": "code",
   "execution_count": 5,
   "metadata": {},
   "outputs": [],
   "source": [
    "import torch\n",
    "import torch.nn as nn\n",
    "import numpy as np\n",
    "import matplotlib.pyplot as plt\n",
    "\n",
    "from sklearn.preprocessing import MinMaxScale\n",
    "\n",
    "scaler = MinMaxScaler(feature_range=(-1, 1)) "
   ]
  },
  {
   "cell_type": "markdown",
   "metadata": {},
   "source": [
    "Processing Data"
   ]
  },
  {
   "cell_type": "code",
   "execution_count": 12,
   "metadata": {},
   "outputs": [],
   "source": [
    "closing_prices = AAPL['Close']\n",
    "\n",
    "raw_cp_dat = closing_prices.values\n",
    "\n",
    "# Standardizing\n",
    "raw_cp_dat = raw_cp_dat - raw_cp_dat.mean()\n",
    "raw_cp_dat = raw_cp_dat/raw_cp_dat.std()\n",
    "\n",
    "# Scaling\n",
    "raw_cp_dat = MinMaxScaler(raw_cp_dat)\n"
   ]
  },
  {
   "cell_type": "markdown",
   "metadata": {},
   "source": [
    "LSTM Model Def"
   ]
  },
  {
   "cell_type": "code",
   "execution_count": 5,
   "metadata": {},
   "outputs": [],
   "source": [
    "class LSTM(nn.Module):\n",
    "    def __init__(self, input_size = 1, hidden_layer_size = 32, num_layers = 2, output_size = 1):\n",
    "        super(LSTM, self).__init__()\n",
    "        self.input_dim = input_size\n",
    "        self.hidden_dim = hidden_layer_size\n",
    "        self.num_layers = num_layers\n",
    "        self.output_dim = output_size\n",
    "\n",
    "        self.lstm = nn.LSTM(self.input_dim, self.hidden_dim, self.num_layers, batch_first=True, dropout=0)\n",
    "        self.fc = nn.Linear(self.hidden_dim, self.output_dim)\n",
    "\n",
    "    def forward(self, x):\n",
    "        h0 = torch.zeros(self.num_layers, x.size(0), self.hidden_dim).requires_grad_()\n",
    "        c0 = torch.zeros(self.num_layers, x.size(0), self.hidden_dim).requires_grad_()\n",
    "        out, (hn, cn) = self.lstm(x, (h0.detach(), c0.detach()))\n",
    "        out = self.fc(out[:, -1, :])\n",
    "        return out"
   ]
  },
  {
   "cell_type": "code",
   "execution_count": 7,
   "metadata": {},
   "outputs": [],
   "source": [
    "model = LSTM()\n",
    "\n",
    "criterion = torch.nn.MSELoss(reduction='sum')\n",
    "\n",
    "optimizer = torch.optim.Adam(model.parameters(), lr=0.01)"
   ]
  },
  {
   "cell_type": "code",
   "execution_count": null,
   "metadata": {},
   "outputs": [],
   "source": [
    "import time\n",
    "\n",
    "num_epochs = 500\n",
    "hist = np.zeros(num_epochs)\n",
    "start_time = time.time()\n",
    "lstm = []\n",
    "error = 1\n",
    "tol = 1e-3\n",
    "\n",
    "for t in range(num_epochs):\n",
    "    if (error > tol):\n",
    "        y_train_pred = model(x_train)\n",
    "        loss = criterion(y_train_pred, y_train_lstm)\n",
    "        error = abs(loss.item())\n",
    "        if (t%10 == 0): print(\"Epoch \", t, \"MSE: %.3e\" % loss.item())\n",
    "        if loss.item()<tol:\n",
    "            print(\"Epoch \", t, \"MSE: %.3e\" % loss.item())\n",
    "            break\n",
    "        hist[t] = loss.item()\n",
    "        optimizer.zero_grad()\n",
    "        loss.backward()\n",
    "        optimizer.step()\n",
    "    else:\n",
    "        break"
   ]
  }
 ],
 "metadata": {
  "kernelspec": {
   "display_name": "Python 3",
   "language": "python",
   "name": "python3"
  },
  "language_info": {
   "codemirror_mode": {
    "name": "ipython",
    "version": 3
   },
   "file_extension": ".py",
   "mimetype": "text/x-python",
   "name": "python",
   "nbconvert_exporter": "python",
   "pygments_lexer": "ipython3",
   "version": "3.10.6"
  }
 },
 "nbformat": 4,
 "nbformat_minor": 2
}
